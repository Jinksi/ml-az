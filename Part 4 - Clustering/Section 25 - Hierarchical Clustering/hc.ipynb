{
  "cells": [
    {
      "cell_type": "code",
      "source": [
        "# Heirarchical Clustering\n",
        "\n",
        "import numpy as np\n",
        "import matplotlib.pyplot as plt\n",
        "import pandas as pd\n",
        "\n",
        "dataset = pd.read_csv('Mall_Customers.csv')\n",
        "\n",
        "X = dataset.iloc[:, [3,4]].values\n",
        "\n",
        "# Using dendogram to find optimal N clusters\n",
        "import scipy.cluster.hierarchy as sch\n",
        "dendrogram = sch.dendrogram(sch.linkage(X, method='ward'))\n",
        "plt.title('Dendrogram')\n",
        "plt.xlabel('Customers')\n",
        "plt.ylabel('Euclidean Distances')\n",
        "plt.show()\n",
        "\n",
        "# We have decided to use 5 clusters based on analysing Dendrogram\n",
        "from sklearn.cluster import AgglomerativeClustering\n",
        "hc = AgglomerativeClustering(n_clusters=5, affinity=\"euclidean\", linkage='ward')\n",
        "y_hc = hc.fit_predict(X)\n",
        "\n",
        "np.unique(y_hc)\n",
        "\n",
        "def visualise():\n",
        "    colors = ['tomato', 'orange', 'skyblue', 'green', 'hotpink']\n",
        "    cluster_labels = ['Careful', 'Standard', 'Target', 'Careless', 'Sensible']\n",
        "    for i in np.unique(y_hc): # for each cluster\n",
        "        plt.scatter(X[y_hc == i, 0], X[y_hc == i, 1], s=10, c=colors[i], label=cluster_labels[i])\n",
        "    plt.title('Cluster of customers')\n",
        "    plt.xlabel('Annual Income (k$)')\n",
        "    plt.ylabel('Spending Score (1-100)')\n",
        "    plt.legend()\n",
        "    return plt.show()\n",
        "\nvisualise()"
      ],
      "outputs": [],
      "execution_count": null,
      "metadata": {
        "collapsed": false,
        "outputHidden": false,
        "inputHidden": false
      }
    }
  ],
  "metadata": {},
  "nbformat": 4,
  "nbformat_minor": 4
}